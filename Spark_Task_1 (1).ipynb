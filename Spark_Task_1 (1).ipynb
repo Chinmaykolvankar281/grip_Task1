{
  "nbformat": 4,
  "nbformat_minor": 0,
  "metadata": {
    "kernelspec": {
      "display_name": "Python 3",
      "language": "python",
      "name": "python3"
    },
    "language_info": {
      "codemirror_mode": {
        "name": "ipython",
        "version": 3
      },
      "file_extension": ".py",
      "mimetype": "text/x-python",
      "name": "python",
      "nbconvert_exporter": "python",
      "pygments_lexer": "ipython3",
      "version": "3.8.5"
    },
    "colab": {
      "name": "Spark_Task_1.ipynb",
      "provenance": [],
      "collapsed_sections": []
    }
  },
  "cells": [
    {
      "cell_type": "markdown",
      "metadata": {
        "id": "BwPLHiAsMCeB"
      },
      "source": [
        "# <center><u>The Spark Foundation - GRIP</u></center>"
      ]
    },
    {
      "cell_type": "markdown",
      "metadata": {
        "id": "RnFPZ_z9MCeC"
      },
      "source": [
        "## Topic: Prediction using Supervised ML"
      ]
    },
    {
      "cell_type": "markdown",
      "metadata": {
        "id": "NggA1RUeMCeC"
      },
      "source": [
        "### Task 1 : Predict the percentage of an student based on the no. of study hours."
      ]
    },
    {
      "cell_type": "markdown",
      "metadata": {
        "id": "p0jDmERnMCeC"
      },
      "source": [
        "### Code Written By - Chinmay Kolvankar"
      ]
    },
    {
      "cell_type": "markdown",
      "metadata": {
        "id": "mXGXketsMCeD"
      },
      "source": [
        "This is a linear regression problem in which we are going to predict the percentage of students with the help of their study hours. This is a simple linear regression task as it involves just 2 variables."
      ]
    },
    {
      "cell_type": "code",
      "metadata": {
        "colab": {
          "base_uri": "https://localhost:8080/"
        },
        "id": "c-U1AW2uMCeD",
        "outputId": "a86b1394-3b33-4ae0-ae6d-fc2acfbedb0a"
      },
      "source": [
        "import numpy as np\n",
        "import pandas as pd\n",
        "import matplotlib.pyplot as plt\n",
        "%matplotlib inline\n",
        "from sklearn.linear_model import LinearRegression \n",
        "\n",
        "print(\"Library files are imported successfully\")"
      ],
      "execution_count": 18,
      "outputs": [
        {
          "output_type": "stream",
          "text": [
            "Library files are imported successfully\n"
          ],
          "name": "stdout"
        }
      ]
    },
    {
      "cell_type": "markdown",
      "metadata": {
        "id": "UPBdOpp1MCeE"
      },
      "source": [
        "### Reading the data from given link"
      ]
    },
    {
      "cell_type": "code",
      "metadata": {
        "colab": {
          "base_uri": "https://localhost:8080/"
        },
        "id": "JPC4MrGsMCeE",
        "outputId": "b05acdc6-f27c-416a-a76e-ef6344059e9a"
      },
      "source": [
        "url = \"http://bit.ly/w-data\"\n",
        "stu_data = pd.read_csv(url)\n",
        "print(\"Data imported successfully\")"
      ],
      "execution_count": 19,
      "outputs": [
        {
          "output_type": "stream",
          "text": [
            "Data imported successfully\n"
          ],
          "name": "stdout"
        }
      ]
    },
    {
      "cell_type": "markdown",
      "metadata": {
        "id": "JdQtdvTsMCeE"
      },
      "source": [
        "### Data provided given below"
      ]
    },
    {
      "cell_type": "code",
      "metadata": {
        "colab": {
          "base_uri": "https://localhost:8080/",
          "height": 203
        },
        "id": "BYTfGGDIMCeF",
        "outputId": "f13963ac-69d1-414f-ba29-eff72025dcde"
      },
      "source": [
        "stu_data.head()"
      ],
      "execution_count": 29,
      "outputs": [
        {
          "output_type": "execute_result",
          "data": {
            "text/html": [
              "<div>\n",
              "<style scoped>\n",
              "    .dataframe tbody tr th:only-of-type {\n",
              "        vertical-align: middle;\n",
              "    }\n",
              "\n",
              "    .dataframe tbody tr th {\n",
              "        vertical-align: top;\n",
              "    }\n",
              "\n",
              "    .dataframe thead th {\n",
              "        text-align: right;\n",
              "    }\n",
              "</style>\n",
              "<table border=\"1\" class=\"dataframe\">\n",
              "  <thead>\n",
              "    <tr style=\"text-align: right;\">\n",
              "      <th></th>\n",
              "      <th>Hours</th>\n",
              "      <th>Scores</th>\n",
              "    </tr>\n",
              "  </thead>\n",
              "  <tbody>\n",
              "    <tr>\n",
              "      <th>0</th>\n",
              "      <td>2.5</td>\n",
              "      <td>21</td>\n",
              "    </tr>\n",
              "    <tr>\n",
              "      <th>1</th>\n",
              "      <td>5.1</td>\n",
              "      <td>47</td>\n",
              "    </tr>\n",
              "    <tr>\n",
              "      <th>2</th>\n",
              "      <td>3.2</td>\n",
              "      <td>27</td>\n",
              "    </tr>\n",
              "    <tr>\n",
              "      <th>3</th>\n",
              "      <td>8.5</td>\n",
              "      <td>75</td>\n",
              "    </tr>\n",
              "    <tr>\n",
              "      <th>4</th>\n",
              "      <td>3.5</td>\n",
              "      <td>30</td>\n",
              "    </tr>\n",
              "  </tbody>\n",
              "</table>\n",
              "</div>"
            ],
            "text/plain": [
              "   Hours  Scores\n",
              "0    2.5      21\n",
              "1    5.1      47\n",
              "2    3.2      27\n",
              "3    8.5      75\n",
              "4    3.5      30"
            ]
          },
          "metadata": {
            "tags": []
          },
          "execution_count": 29
        }
      ]
    },
    {
      "cell_type": "markdown",
      "metadata": {
        "id": "WGYZbXiCMCeF"
      },
      "source": [
        "### Lets analyse the given data"
      ]
    },
    {
      "cell_type": "code",
      "metadata": {
        "colab": {
          "base_uri": "https://localhost:8080/",
          "height": 295
        },
        "id": "VtMgiIc2MCeF",
        "outputId": "4df4fd15-2761-4627-989e-7ca46841c6d7"
      },
      "source": [
        "#Analysing data using Scatter Plot\n",
        "\n",
        "stu_data.plot(x='Hours', y='Scores', kind='scatter')\n",
        "plt.title('Hours vs Percentage')\n",
        "plt.xlabel('Hours Studied')\n",
        "plt.ylabel('Percentage Scored')\n",
        "plt.show()"
      ],
      "execution_count": 30,
      "outputs": [
        {
          "output_type": "display_data",
          "data": {
            "image/png": "[encoded data removed]",
            "text/plain": [
              "<Figure size 432x288 with 1 Axes>"
            ]
          },
          "metadata": {
            "tags": [],
            "needs_background": "light"
          }
        }
      ]
    },
    {
      "cell_type": "markdown",
      "metadata": {
        "id": "RaFYh2BuMCeF"
      },
      "source": [
        "From the given graph, we can see that their is relation between stdied hours and percentage scored"
      ]
    },
    {
      "cell_type": "markdown",
      "metadata": {
        "id": "Fw_5hdrSMCeG"
      },
      "source": [
        "### Data preparation"
      ]
    },
    {
      "cell_type": "code",
      "metadata": {
        "id": "ogqr5G9EMCeG"
      },
      "source": [
        "x = np.asanyarray(stu_data[['Hours']])\n",
        "y = np.asanyarray(stu_data['Scores'])\n"
      ],
      "execution_count": 31,
      "outputs": []
    },
    {
      "cell_type": "markdown",
      "metadata": {
        "id": "lDwxk_GnMCeG"
      },
      "source": [
        "Now split the dataset into training and testing set. we will use a built in function train_test_split()method: of scikit learn library"
      ]
    },
    {
      "cell_type": "code",
      "metadata": {
        "id": "i5Qwhz_bMCeG"
      },
      "source": [
        "from sklearn.model_selection import train_test_split\n",
        "train_x,test_x,train_y,test_y=train_test_split(x,y,test_size=0.2,random_state=0)"
      ],
      "execution_count": 23,
      "outputs": []
    },
    {
      "cell_type": "markdown",
      "metadata": {
        "id": "QuuLJ49oMCeH"
      },
      "source": [
        "### Training the model"
      ]
    },
    {
      "cell_type": "code",
      "metadata": {
        "colab": {
          "base_uri": "https://localhost:8080/"
        },
        "id": "8x3vgS91MCeH",
        "outputId": "65821a7e-d906-4c30-e6f9-966faeab074f"
      },
      "source": [
        "from sklearn.linear_model import LinearRegression \n",
        "\n",
        "regressor = LinearRegression()\n",
        "regressor.fit(train_x,train_y)\n",
        "print(\"Training Completed\\n\")\n",
        "print(\"Coefficient : \",regressor.coef_)\n",
        "print(\"Intercept : \",regressor.intercept_)\n"
      ],
      "execution_count": 32,
      "outputs": [
        {
          "output_type": "stream",
          "text": [
            "Training Completed\n",
            "\n",
            "Coefficient :  [9.91065648]\n",
            "Intercept :  2.018160041434662\n"
          ],
          "name": "stdout"
        }
      ]
    },
    {
      "cell_type": "code",
      "metadata": {
        "colab": {
          "base_uri": "https://localhost:8080/",
          "height": 404
        },
        "id": "jf8OzYWtMCeH",
        "outputId": "f39b5ad6-835f-413b-e608-5a86e8b2de91"
      },
      "source": [
        "#Plotting the fit line on the scatter plot of test data\n",
        "\n",
        "fitline = regressor.coef_[0]*train_x + regressor.intercept_\n",
        "\n",
        "stu_data.plot(x='Hours', y='Scores', kind='scatter',figsize=(9,6),color='r')\n",
        "\n",
        "plt.plot(train_x,fitline)\n",
        "\n",
        "plt.title('Hours vs Percentage')\n",
        "plt.xlabel('Hours Studied')\n",
        "plt.ylabel('Percentage Scored')\n",
        "plt.show()"
      ],
      "execution_count": 33,
      "outputs": [
        {
          "output_type": "display_data",
          "data": {
            "image/png": "[encoded data removed]",
            "text/plain": [
              "<Figure size 648x432 with 1 Axes>"
            ]
          },
          "metadata": {
            "tags": [],
            "needs_background": "light"
          }
        }
      ]
    },
    {
      "cell_type": "markdown",
      "metadata": {
        "id": "rZ655EUIMCeH"
      },
      "source": [
        "The Blue line obtained in graph is the best fit line our data"
      ]
    },
    {
      "cell_type": "markdown",
      "metadata": {
        "id": "EZAr6I90MCeH"
      },
      "source": [
        "#### Checking the accuracy"
      ]
    },
    {
      "cell_type": "code",
      "metadata": {
        "colab": {
          "base_uri": "https://localhost:8080/"
        },
        "id": "LMXPyiZ-MCeI",
        "outputId": "e3caa5e6-2ec5-45c0-c2ca-3601d821bc4e"
      },
      "source": [
        "from sklearn import metrics\n",
        "from sklearn.metrics import r2_score\n",
        "\n",
        "y_pred  = regressor.predict(test_x)\n",
        "print(\"Mean Absolute Error : \", metrics.mean_absolute_error(y_pred,test_y))\n",
        "print(\"R2 Score : %2f\"% r2_score(test_y,y_pred))\n",
        "r= r2_score(test_y,y_pred)"
      ],
      "execution_count": 34,
      "outputs": [
        {
          "output_type": "stream",
          "text": [
            "Mean Absolute Error :  4.183859899002982\n",
            "R2 Score : 0.945491\n"
          ],
          "name": "stdout"
        }
      ]
    },
    {
      "cell_type": "markdown",
      "metadata": {
        "id": "2HPWsSKUMCeI"
      },
      "source": [
        "*Mean squared error* :- \n",
        "                      It tells how close a regression line is to a set of points. It does this by taking the distances from    the points to the regression line (these distances are the “errors”) and squaring them. The squaring is necessary to remove any negative signs.\n",
        "            \n",
        "*R-2 Score* :-\n",
        "             It tells how close the data are to the fitted regression line. Range is between (0,1).Ideal value is 1."
      ]
    },
    {
      "cell_type": "code",
      "metadata": {
        "colab": {
          "base_uri": "https://localhost:8080/",
          "height": 203
        },
        "id": "_cVSJaaXMCeI",
        "outputId": "219e992d-866e-464d-c8cd-0a4f773f7dfc"
      },
      "source": [
        "#Compare Actual and Predicted data\n",
        "\n",
        "df = pd.DataFrame({'Actual': test_y,'Predicted': y_pred})\n",
        "df"
      ],
      "execution_count": 35,
      "outputs": [
        {
          "output_type": "execute_result",
          "data": {
            "text/html": [
              "<div>\n",
              "<style scoped>\n",
              "    .dataframe tbody tr th:only-of-type {\n",
              "        vertical-align: middle;\n",
              "    }\n",
              "\n",
              "    .dataframe tbody tr th {\n",
              "        vertical-align: top;\n",
              "    }\n",
              "\n",
              "    .dataframe thead th {\n",
              "        text-align: right;\n",
              "    }\n",
              "</style>\n",
              "<table border=\"1\" class=\"dataframe\">\n",
              "  <thead>\n",
              "    <tr style=\"text-align: right;\">\n",
              "      <th></th>\n",
              "      <th>Actual</th>\n",
              "      <th>Predicted</th>\n",
              "    </tr>\n",
              "  </thead>\n",
              "  <tbody>\n",
              "    <tr>\n",
              "      <th>0</th>\n",
              "      <td>20</td>\n",
              "      <td>16.884145</td>\n",
              "    </tr>\n",
              "    <tr>\n",
              "      <th>1</th>\n",
              "      <td>27</td>\n",
              "      <td>33.732261</td>\n",
              "    </tr>\n",
              "    <tr>\n",
              "      <th>2</th>\n",
              "      <td>69</td>\n",
              "      <td>75.357018</td>\n",
              "    </tr>\n",
              "    <tr>\n",
              "      <th>3</th>\n",
              "      <td>30</td>\n",
              "      <td>26.794801</td>\n",
              "    </tr>\n",
              "    <tr>\n",
              "      <th>4</th>\n",
              "      <td>62</td>\n",
              "      <td>60.491033</td>\n",
              "    </tr>\n",
              "  </tbody>\n",
              "</table>\n",
              "</div>"
            ],
            "text/plain": [
              "   Actual  Predicted\n",
              "0      20  16.884145\n",
              "1      27  33.732261\n",
              "2      69  75.357018\n",
              "3      30  26.794801\n",
              "4      62  60.491033"
            ]
          },
          "metadata": {
            "tags": []
          },
          "execution_count": 35
        }
      ]
    },
    {
      "cell_type": "markdown",
      "metadata": {
        "id": "_cmllg_XMCeI"
      },
      "source": [
        "### "
      ]
    },
    {
      "cell_type": "code",
      "metadata": {
        "colab": {
          "base_uri": "https://localhost:8080/"
        },
        "id": "H6W3PIW0MCeJ",
        "outputId": "e2853623-c566-4cdf-a18c-df667ec784d6"
      },
      "source": [
        "#Now predict the score of student by the value provided\n",
        "\n",
        "hours = 9.25\n",
        "predicted_score = regressor.predict([[hours]])\n",
        "print(f\"Number of Hours : {hours}\")\n",
        "print(f\"Predicted Score : {predicted_score[0]}\")\n",
        "\n",
        "print(\"\\nR2 Score is \",r)"
      ],
      "execution_count": 36,
      "outputs": [
        {
          "output_type": "stream",
          "text": [
            "Number of Hours : 9.25\n",
            "Predicted Score : 93.69173248737539\n",
            "\n",
            "R2 Score is  0.9454906892105354\n"
          ],
          "name": "stdout"
        }
      ]
    },
    {
      "cell_type": "code",
      "metadata": {
        "id": "k9HovYf4MCeJ"
      },
      "source": [
        ""
      ],
      "execution_count": 28,
      "outputs": []
    }
  ]
}